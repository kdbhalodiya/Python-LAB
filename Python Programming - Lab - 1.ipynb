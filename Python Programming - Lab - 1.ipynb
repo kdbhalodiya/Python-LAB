{
 "cells": [
  {
   "cell_type": "markdown",
   "metadata": {},
   "source": [
    "<a href='https://www.darshan.ac.in/'> <img src='https://www.darshan.ac.in/Content/media/DU_Logo.svg' width=\"250\" height=\"300\"/></a>\n",
    "<pre>\n",
    "<center><b><h1>Python Programming - 2101CS405</b></center>\n",
    "<center><b><h1>Lab - 1</b></center>    \n",
    "<pre>"
   ]
  },
  {
   "cell_type": "markdown",
   "metadata": {},
   "source": [
    "### 01) WAP to print “Hello World”"
   ]
  },
  {
   "cell_type": "code",
   "execution_count": null,
   "metadata": {},
   "outputs": [],
   "source": [
    "print(\"Hello World\");"
   ]
  },
  {
   "cell_type": "markdown",
   "metadata": {},
   "source": [
    "### 02) WAP to print your address i) using single print ii) using multiple print"
   ]
  },
  {
   "cell_type": "code",
   "execution_count": null,
   "metadata": {},
   "outputs": [],
   "source": [
    "print(\"'Maruti Nandan , opp. new govt. school ,raghuvir park society , mota mova , kalavad road , rajkot '\");\n"
   ]
  },
  {
   "cell_type": "markdown",
   "metadata": {},
   "source": [
    "### 03) WAP to print addition of 2 numbers (without input function)"
   ]
  },
  {
   "cell_type": "code",
   "execution_count": null,
   "metadata": {},
   "outputs": [],
   "source": [
    "a=5\n",
    "b=4\n",
    "print(a+b)"
   ]
  },
  {
   "cell_type": "markdown",
   "metadata": {},
   "source": [
    "### 04) WAP to calculate and print average of 2 numbers (without input function)"
   ]
  },
  {
   "cell_type": "code",
   "execution_count": null,
   "metadata": {},
   "outputs": [],
   "source": [
    "a=10\n",
    "b=20\n",
    "print((a+b)/2)"
   ]
  },
  {
   "cell_type": "markdown",
   "metadata": {},
   "source": [
    "### 05) WAP to add two number entered by user."
   ]
  },
  {
   "cell_type": "code",
   "execution_count": null,
   "metadata": {},
   "outputs": [],
   "source": [
    "a=int(input(\"Enter number 1\"))\n",
    "b=int(input(\"Enter number 2\"))\n",
    "\n",
    "print(a+b)"
   ]
  },
  {
   "cell_type": "markdown",
   "metadata": {},
   "source": [
    "### 06) WAP to calculate simple interest."
   ]
  },
  {
   "cell_type": "code",
   "execution_count": null,
   "metadata": {},
   "outputs": [],
   "source": [
    "p=int(input(\"Enter percentage\"))\n",
    "r=float(input(\"Enter interest retio\"))\n",
    "n=float(input(\"Enter number of time in month\"))\n",
    "\n",
    "print((p*r*n)/100)"
   ]
  },
  {
   "cell_type": "markdown",
   "metadata": {},
   "source": [
    "### 07) WAP Calculate Area and Circumfrence of Circle"
   ]
  },
  {
   "cell_type": "code",
   "execution_count": null,
   "metadata": {},
   "outputs": [],
   "source": [
    "\n",
    "from math import pi;\n",
    "\n",
    "radius=float(input(\"Enter redius\"))\n",
    "\n",
    "print(\"Area of circle :- \",pi*radius*radius)\n",
    "\n",
    "print(\"Circumfrence of circle :- \",2*pi*radius)"
   ]
  },
  {
   "cell_type": "markdown",
   "metadata": {},
   "source": [
    "### 08) WAP to print Multiplication table of given number without using loops."
   ]
  },
  {
   "cell_type": "code",
   "execution_count": null,
   "metadata": {},
   "outputs": [],
   "source": []
  },
  {
   "cell_type": "markdown",
   "metadata": {},
   "source": [
    "### 09) WAP to calculate Area of Triangle (hint: a = h * b * 0.5)"
   ]
  },
  {
   "cell_type": "code",
   "execution_count": null,
   "metadata": {},
   "outputs": [],
   "source": [
    "height=float(input(\"Enter height of the triangle\"))\n",
    "base=float(input(\"Enter base of the triangle\"))\n",
    "\n",
    "print(\"Area of triangle :- \",height*base*0.5)"
   ]
  },
  {
   "cell_type": "markdown",
   "metadata": {},
   "source": [
    "### 10) WAP to convert degree to Fahrenheit and vice versa."
   ]
  },
  {
   "cell_type": "code",
   "execution_count": null,
   "metadata": {},
   "outputs": [],
   "source": [
    "degree=float(input(\"Enter degree :- \"))\n",
    "fahrenheit=float(input(\"Enter fahrenheit :- \"))\n",
    "\n",
    "print(\"Degree to fahrenheit = \",(degree*(9/5)+32))\n",
    "print(\"Fahrenheit to degree = \",(fahrenheit-32)*(5/9))"
   ]
  },
  {
   "cell_type": "markdown",
   "metadata": {},
   "source": [
    "### 11) WAP to calculate total marks and Percentage."
   ]
  },
  {
   "cell_type": "code",
   "execution_count": 5,
   "metadata": {},
   "outputs": [
    {
     "name": "stdout",
     "output_type": "stream",
     "text": [
      "Total marks =  429.0  out of 500.\n",
      "Percentage =  85.8 %\n"
     ]
    }
   ],
   "source": [
    "subject1=float(input(\"Enter marks of subject 1 :- \"))\n",
    "subject2=float(input(\"Enter marks of subject 2 :- \"))\n",
    "subject3=float(input(\"Enter marks of subject 3 :- \"))\n",
    "subject4=float(input(\"Enter marks of subject 4 :- \"))\n",
    "subject5=float(input(\"Enter marks of subject 5 :- \"))"
   ]
  },
  {
   "cell_type": "code",
   "execution_count": 6,
   "metadata": {},
   "outputs": [
    {
     "name": "stdout",
     "output_type": "stream",
     "text": [
      "Total marks =  429.0  out of 500.\n",
      "Percentage =  85.8 %\n"
     ]
    }
   ],
   "source": [
    "print(\"Total marks = \",(subject1+subject2+subject3+subject4+subject5),\" out of 500.\")\n",
    "print(\"Percentage = \",((subject1+subject2+subject3+subject4+subject5)/500)*100,\"%\")"
   ]
  },
  {
   "cell_type": "markdown",
   "metadata": {},
   "source": [
    "### 12) Compute distance between two points taking input from the user (Pythagorean Theorem)."
   ]
  },
  {
   "cell_type": "code",
   "execution_count": 14,
   "metadata": {},
   "outputs": [
    {
     "name": "stdout",
     "output_type": "stream",
     "text": [
      "11.661903789690601\n",
      "11.661903789690601\n"
     ]
    }
   ],
   "source": [
    "from math import sqrt;\n",
    "x1=float(input(\"Enter x of point A :- \"))\n",
    "x2=float(input(\"Enter y of point A :- \"))\n",
    "y1=float(input(\"Enter x of point B :- \"))\n",
    "y2=float(input(\"Enter y of point B :- \"))\n",
    "\n",
    "print(sqrt(pow(x2-x1,2)+pow(y2-y1,2)))"
   ]
  },
  {
   "cell_type": "markdown",
   "metadata": {},
   "source": [
    "### 13) WAP to convert seconds into hours, minutes & seconds and print in HH:MM:SS\n",
    "[e.g. 10000 seconds mean 2:46:40 (2 Hours, 46 Minutes, 40Seconds)]"
   ]
  },
  {
   "cell_type": "code",
   "execution_count": null,
   "metadata": {},
   "outputs": [],
   "source": []
  },
  {
   "cell_type": "markdown",
   "metadata": {},
   "source": [
    "### 14) WAP to enter distance into kilometer and convert it into meter, feet,inches, and centimeter"
   ]
  },
  {
   "cell_type": "code",
   "execution_count": 15,
   "metadata": {},
   "outputs": [
    {
     "name": "stdout",
     "output_type": "stream",
     "text": [
      "Distance into meter :-  5000.0\n",
      "Distance into feet :-  16404.2\n",
      "Distance into inches :-  196850.5\n",
      "Distance into centimeter :-  500000.0\n"
     ]
    }
   ],
   "source": [
    "kilometer=float(input(\"Enter distance into kilometer :- \"));\n",
    "\n",
    "print(\"Distance into meter :- \",kilometer*1000)\n",
    "print(\"Distance into feet :- \",kilometer*3280.84)\n",
    "print(\"Distance into inches :- \",kilometer*39370.1)\n",
    "print(\"Distance into centimeter :- \",kilometer*100000)"
   ]
  }
 ],
 "metadata": {
  "kernelspec": {
   "display_name": "Python 3 (ipykernel)",
   "language": "python",
   "name": "python3"
  },
  "language_info": {
   "codemirror_mode": {
    "name": "ipython",
    "version": 3
   },
   "file_extension": ".py",
   "mimetype": "text/x-python",
   "name": "python",
   "nbconvert_exporter": "python",
   "pygments_lexer": "ipython3",
   "version": "3.11.5"
  },
  "vscode": {
   "interpreter": {
    "hash": "31f2aee4e71d21fbe5cf8b01ff0e069b9275f58929596ceb00d14d90e3e16cd6"
   }
  }
 },
 "nbformat": 4,
 "nbformat_minor": 4
}
