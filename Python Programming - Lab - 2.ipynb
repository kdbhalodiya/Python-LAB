{
 "cells": [
  {
   "cell_type": "markdown",
   "metadata": {},
   "source": [
    "\n",
    "<a href='https://www.darshan.ac.in/'> <img src='https://www.darshan.ac.in/Content/media/DU_Logo.svg' width=\"250\" height=\"300\"/></a>\n",
    "<pre>\n",
    "<center><b><h1>Python Programming - 2101CS405</b></center>\n",
    "<center><b><h1>Lab - 2</b></center>    \n",
    "<pre>"
   ]
  },
  {
   "cell_type": "markdown",
   "metadata": {},
   "source": [
    "# if..else.."
   ]
  },
  {
   "cell_type": "markdown",
   "metadata": {},
   "source": [
    "### 01) WAP to check whether the given number is positive or negative."
   ]
  },
  {
   "cell_type": "code",
   "execution_count": 4,
   "metadata": {},
   "outputs": [
    {
     "name": "stdout",
     "output_type": "stream",
     "text": [
      "Enter number here :- 0\n",
      "Number is zero.\n"
     ]
    }
   ],
   "source": [
    "\n",
    "number=int(input(\"Enter number here :- \"));\n",
    "\n",
    "if(number>0):\n",
    "    print(\"Number is positive.\");\n",
    "elif(number<0):\n",
    "    print(\"Number is  negative.\");\n",
    "else:\n",
    "    print(\"Number is zero.\");"
   ]
  },
  {
   "cell_type": "markdown",
   "metadata": {},
   "source": [
    "### 02) WAP to check whether the given number is odd or even"
   ]
  },
  {
   "cell_type": "code",
   "execution_count": null,
   "metadata": {},
   "outputs": [],
   "source": [
    "number=int(input(\"Enter number here :-\"));\n",
    "\n",
    "if(number%2==0):\n",
    "    print(\"Number is even\");\n",
    "else:\n",
    "    print(\"Number is odd\");"
   ]
  },
  {
   "cell_type": "markdown",
   "metadata": {},
   "source": [
    "### 03) WAP to find out largest number from given two numbers using simple if and ternary operator."
   ]
  },
  {
   "cell_type": "code",
   "execution_count": 7,
   "metadata": {},
   "outputs": [
    {
     "name": "stdout",
     "output_type": "stream",
     "text": [
      "Enter number 1 here :- 7\n",
      "Enter number 2 here :- 2\n",
      "Number 1 is largest.\n"
     ]
    }
   ],
   "source": [
    "number1=int(input(\"Enter number 1 here :- \"));\n",
    "number2=int(input(\"Enter number 2 here :- \"));\n",
    "\n",
    "if(number1>number2):\n",
    "    print(\"Number 1 is largest.\");\n",
    "else:\n",
    "    print(\"Number 2 is largest.\");"
   ]
  },
  {
   "cell_type": "code",
   "execution_count": 8,
   "metadata": {
    "scrolled": true
   },
   "outputs": [
    {
     "name": "stdout",
     "output_type": "stream",
     "text": [
      "Number 1 is largest.\n"
     ]
    }
   ],
   "source": [
    "print(\"Number 1 is largest.\") if(number1>number2) else print(\"Number 2 is largest.\");"
   ]
  },
  {
   "cell_type": "markdown",
   "metadata": {},
   "source": [
    "### 04) WAP to find out largest number from given three numbers."
   ]
  },
  {
   "cell_type": "code",
   "execution_count": 12,
   "metadata": {},
   "outputs": [
    {
     "name": "stdout",
     "output_type": "stream",
     "text": [
      "Enter number 1 here :- 8\n",
      "Enter number 2 here :- 90\n",
      "Enter number 3 here :- 6\n",
      "Number 2 is max.\n"
     ]
    }
   ],
   "source": [
    "number1=int(input(\"Enter number 1 here :- \"));\n",
    "number2=int(input(\"Enter number 2 here :- \"));\n",
    "number3=int(input(\"Enter number 3 here :- \"));\n",
    "\n",
    "if(number1>number2):\n",
    "    if(number1>number3):\n",
    "        print(\"Number 1 is max.\");\n",
    "elif(number2>number3):\n",
    "    print(\"Number 2 is max.\");\n",
    "else:\n",
    "    print(\"Number 3 is max.\");\n",
    "\n"
   ]
  },
  {
   "cell_type": "markdown",
   "metadata": {},
   "source": [
    "### 05) WAP to check whether the given year is leap year or not.\n",
    "[If a year can be divisible by 4 but not divisible by 100 then it is leap year but if it is divisible by 400 then it is leap year]"
   ]
  },
  {
   "cell_type": "code",
   "execution_count": 23,
   "metadata": {},
   "outputs": [
    {
     "name": "stdout",
     "output_type": "stream",
     "text": [
      "Enter year here :-2024\n",
      "Leap year\n"
     ]
    }
   ],
   "source": [
    "year=int(input(\"Enter year here :-\"));\n",
    "\n",
    "if(year%4==0 and year%100!=0):\n",
    "    print(\"Leap year\");\n",
    "elif(year%400==0):\n",
    "    print(\"Leap year\");\n",
    "else:\n",
    "    print(\"not Leap year\");\n"
   ]
  },
  {
   "cell_type": "markdown",
   "metadata": {},
   "source": [
    "### 06) WAP in python to display the name of the day according to the number given by the user"
   ]
  },
  {
   "cell_type": "code",
   "execution_count": null,
   "metadata": {},
   "outputs": [],
   "source": [
    " number=int(input(\"Enter number here :-\"));\n",
    "\n",
    "if(number==1):\n",
    "    print(\"Monday\");\n",
    "elif(number==2):\n",
    "    print(\"Tueday\");\n",
    "elif(number==3):\n",
    "    print(\"Wednesday\");\n",
    "elif(number==4):\n",
    "    print(\"Thursday\");\n",
    "elif(number==5):\n",
    "    print(\"Friday\");\n",
    "elif(number==6):\n",
    "    print(\"Saturday\");\n",
    "elif(number==7):\n",
    "    print(\"Sunday\");\n",
    "else:\n",
    "    print(\"Enter valid number!\");"
   ]
  },
  {
   "cell_type": "markdown",
   "metadata": {},
   "source": [
    "### 07) WAP to implement simple calculator which performs (add,sub,mul,div) of two no. based on user input."
   ]
  },
  {
   "cell_type": "code",
   "execution_count": 25,
   "metadata": {},
   "outputs": [
    {
     "name": "stdout",
     "output_type": "stream",
     "text": [
      "Enter number 1 here :-4\n",
      "Enter number 2 here :-5\n",
      "Enter your choice here :- \n",
      " 1.Add \n",
      " 2.Subs \n",
      " 3.Mult\n",
      " 4.Div 3\n",
      "20\n"
     ]
    }
   ],
   "source": [
    "number1=int(input(\"Enter number 1 here :-\"));\n",
    "number2=int(input(\"Enter number 2 here :-\"));\n",
    "\n",
    "choice=int(input(\"Enter your choice here :- \\n 1.Add \\n 2.Subs \\n 3.Mult\\n 4.Div \\n\"));\n",
    "\n",
    "if(choice==1):\n",
    "    print(number1+number2);\n",
    "elif(choice==2):\n",
    "    print(number1-number2)\n",
    "elif(choice==3):\n",
    "    print(number1*number2)\n",
    "elif(choice==1):\n",
    "    print(number1/number2)\n",
    "else:\n",
    "    print(\"Enter valid number!\");\n",
    "    "
   ]
  },
  {
   "cell_type": "markdown",
   "metadata": {},
   "source": [
    "### 08) WAP to calculate electricity bill based on following criteria. Which takes the unit from the user.\n",
    "a. First 1 to 50 units – Rs. 2.60/unit</br>\n",
    "b. Next 50 to 100 units – Rs. 3.25/unit</br>\n",
    "c. Next 100 to 200 units – Rs. 5.26/unit</br>\n",
    "d. above 200 units – Rs. 8.45/unit"
   ]
  },
  {
   "cell_type": "code",
   "execution_count": 4,
   "metadata": {},
   "outputs": [
    {
     "name": "stdout",
     "output_type": "stream",
     "text": [
      "Enter unit here :- 100\n",
      "Total Bill :-  295.5\n"
     ]
    }
   ],
   "source": [
    "unit=float(input(\"Enter unit here :- \"));\n",
    "\n",
    "if(unit<=50):\n",
    "    print(\"Total Bill :- \",unit*2.60);\n",
    "    \n",
    "elif(unit>50 and unit<=100):\n",
    "    unit1=50*2.66;\n",
    "    unit2=(unit-50)*3.25;\n",
    "    print(\"Total Bill :- \",unit1+unit2);\n",
    "    \n",
    "elif(unit>100 and unit<=200):\n",
    "    unit1=50*2.66;\n",
    "    unit2=50*3.25;\n",
    "    unit3=(unit-100)*5.26;\n",
    "    print(\"Total Bill :- \",unit1+unit2+unit3);\n",
    "    \n",
    "elif(unit>200):\n",
    "    unit1=50*2.66;\n",
    "    unit2=50*3.25;\n",
    "    unit3=100*5.26;\n",
    "    unit4=(unit-200)*8.45;\n",
    "    print(\"Total Bill :- \",unit1+unit2+unit3+unit4);\n",
    "else:\n",
    "    print(\"Enter valid unit ! \");"
   ]
  },
  {
   "cell_type": "markdown",
   "metadata": {},
   "source": [
    "### 01) WAP to read marks of five subjects. Calculate percentage and print class accordingly. \n",
    "Fail below 35 </br>\n",
    "Pass Class between 35 to 45 </br>\n",
    "Second Class</br>\n",
    "between 45 to 60</br>\n",
    "First Class between 60 to 70</br> \n",
    "Distinction if more than 70"
   ]
  },
  {
   "cell_type": "code",
   "execution_count": 29,
   "metadata": {},
   "outputs": [
    {
     "name": "stdout",
     "output_type": "stream",
     "text": [
      "Enter subject 1 mark :-78\n",
      "Enter subject 2 mark :-79\n",
      "Enter subject 3 mark :-67\n",
      "Enter subject 4 mark :-90\n",
      "Enter subject 5 mark :-90\n",
      "Distinction\n"
     ]
    }
   ],
   "source": [
    "subject1=int(input(\"Enter subject 1 mark :-\"));\n",
    "subject2=int(input(\"Enter subject 2 mark :-\"));\n",
    "subject3=int(input(\"Enter subject 3 mark :-\"));\n",
    "subject4=int(input(\"Enter subject 4 mark :-\"));\n",
    "subject5=int(input(\"Enter subject 5 mark :-\"));\n",
    "\n",
    "percentage=(((subject1+subject2+subject3+subject4+subject5)/500)*100);\n",
    "\n",
    "if(percentage<35):\n",
    "    print(\"Fail\");\n",
    "elif(percentage<45):\n",
    "    print(\"Pass class\");\n",
    "elif(percentage<60):\n",
    "    print(\"Second class\");\n",
    "elif(percentage<70):\n",
    "    print(\"First class\");\n",
    "else:\n",
    "    print(\"Distinction\");\n"
   ]
  },
  {
   "cell_type": "markdown",
   "metadata": {},
   "source": [
    "### 02) WAP to find out the Maximum and Minimum number from given 4 numbers."
   ]
  },
  {
   "cell_type": "code",
   "execution_count": 34,
   "metadata": {},
   "outputs": [
    {
     "name": "stdout",
     "output_type": "stream",
     "text": [
      "Enter number 1 here :-4\n",
      "Enter number 2 here :-3\n",
      "Enter number 3 here :-2\n",
      "Enter number 4 here :-1\n",
      "Number 1 is maximum\n"
     ]
    }
   ],
   "source": [
    "number1=int(input(\"Enter number 1 here :-\"));\n",
    "number2=int(input(\"Enter number 2 here :-\"));\n",
    "number3=int(input(\"Enter number 3 here :-\"));\n",
    "number4=int(input(\"Enter number 4 here :-\"));\n",
    "\n",
    "if(number1>number2):\n",
    "    if(number1>number3):\n",
    "        if(number1>number4):\n",
    "            print(\"Number 1 is maximum\");\n",
    "elif(number2>number3):\n",
    "    if(number2>number4):\n",
    "        print(\"Number 2 is maximum\");\n",
    "elif(number3>number4):\n",
    "    print(\"Number 3 is maximum\");\n",
    "else:\n",
    "    print(\"Number 4 is maximum\");\n",
    "        "
   ]
  },
  {
   "cell_type": "markdown",
   "metadata": {},
   "source": [
    "### 03) WAP to input an integer number and check the last digit of number is even or odd."
   ]
  },
  {
   "cell_type": "code",
   "execution_count": 8,
   "metadata": {},
   "outputs": [
    {
     "name": "stdout",
     "output_type": "stream",
     "text": [
      "Enter number here :- 1023\n",
      "The last digit of number is odd.\n"
     ]
    }
   ],
   "source": [
    "number=int(input(\"Enter number here :- \"));\n",
    "\n",
    "temp=number;\n",
    "\n",
    "digit=temp%10;\n",
    "\n",
    "if(digit%2==0):\n",
    "    print(\"The last digit of number is even.\");\n",
    "else:\n",
    "    print(\"The last digit of number is odd.\");"
   ]
  },
  {
   "cell_type": "markdown",
   "metadata": {},
   "source": [
    "### 04) WAP to determine the roots of the equation ax2+bx+c=0."
   ]
  },
  {
   "cell_type": "code",
   "execution_count": 12,
   "metadata": {},
   "outputs": [
    {
     "name": "stdout",
     "output_type": "stream",
     "text": [
      "Enter a of equation here :- 5\n",
      "Enter b of equation here :- 6\n",
      "Enter c of equation here :- 2\n",
      "Solution of  5 x^2 +  6 x +  2  is  (-0.6-0.2j)  and  (-0.6+0.2j) .\n"
     ]
    }
   ],
   "source": [
    "import cmath;\n",
    "\n",
    "a=int(input(\"Enter a of equation here :- \"));\n",
    "b=int(input(\"Enter b of equation here :- \"));\n",
    "c=int(input(\"Enter c of equation here :- \"));\n",
    "\n",
    "d=(b**2)-(4*a*c);\n",
    "\n",
    "solution1=(-b-cmath.sqrt(d))/(2*a);\n",
    "solution2=(-b+cmath.sqrt(d))/(2*a);\n",
    "\n",
    "print(\"Solution of \",a,\"x^2 + \",b,\"x + \",c,\" is \",solution1,\" and \",solution2,\".\");"
   ]
  }
 ],
 "metadata": {
  "kernelspec": {
   "display_name": "Python 3 (ipykernel)",
   "language": "python",
   "name": "python3"
  },
  "language_info": {
   "codemirror_mode": {
    "name": "ipython",
    "version": 3
   },
   "file_extension": ".py",
   "mimetype": "text/x-python",
   "name": "python",
   "nbconvert_exporter": "python",
   "pygments_lexer": "ipython3",
   "version": "3.11.5"
  }
 },
 "nbformat": 4,
 "nbformat_minor": 4
}
